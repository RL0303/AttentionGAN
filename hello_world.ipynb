{
 "cells": [
  {
   "cell_type": "code",
   "execution_count": 1,
   "id": "db866ccf",
   "metadata": {},
   "outputs": [
    {
     "name": "stdout",
     "output_type": "stream",
     "text": [
      "hello world\n"
     ]
    }
   ],
   "source": [
    "print(\"hello world\")"
   ]
  },
  {
   "cell_type": "code",
   "execution_count": 2,
   "id": "a1b551e7",
   "metadata": {},
   "outputs": [
    {
     "name": "stdout",
     "output_type": "stream",
     "text": [
      "PyTorch Version: 1.11.0\n",
      "\n",
      "Python 3.8.13 (default, Mar 28 2022, 11:38:47) \n",
      "[GCC 7.5.0]\n",
      "Pandas 1.4.3\n",
      "Scikit-Learn 1.1.1\n",
      "GPU is available\n"
     ]
    }
   ],
   "source": [
    "# What version of Python do you have?\n",
    "import sys\n",
    "\n",
    "import torch\n",
    "import pandas as pd\n",
    "import sklearn as sk\n",
    "\n",
    "print(f\"PyTorch Version: {torch.__version__}\")\n",
    "print()\n",
    "print(f\"Python {sys.version}\")\n",
    "print(f\"Pandas {pd.__version__}\")\n",
    "print(f\"Scikit-Learn {sk.__version__}\")\n",
    "print(\"GPU is\", \"available\" if torch.cuda.is_available() else \"NOT AVAILABLE\")"
   ]
  },
  {
   "cell_type": "code",
   "execution_count": 3,
   "id": "5dea3163",
   "metadata": {},
   "outputs": [
    {
     "data": {
      "text/plain": [
       "True"
      ]
     },
     "execution_count": 3,
     "metadata": {},
     "output_type": "execute_result"
    }
   ],
   "source": [
    "torch.cuda.is_available()"
   ]
  },
  {
   "cell_type": "code",
   "execution_count": 6,
   "id": "7a703de8",
   "metadata": {},
   "outputs": [
    {
     "name": "stdout",
     "output_type": "stream",
     "text": [
      "# conda environments:\n",
      "#\n",
      "base                  *  /home/lab/miniconda3\n",
      "AttentionGAN             /home/lab/miniconda3/envs/AttentionGAN\n",
      "AutoGAN                  /home/lab/miniconda3/envs/AutoGAN\n",
      "HCCG                     /home/lab/miniconda3/envs/HCCG\n",
      "U-GAT-IT                 /home/lab/miniconda3/envs/U-GAT-IT\n",
      "pytorch-CycleGAN-and-pix2pix     /home/lab/miniconda3/envs/pytorch-CycleGAN-and-pix2pix\n",
      "torch                    /home/lab/miniconda3/envs/torch\n",
      "\n"
     ]
    }
   ],
   "source": [
    "!conda env list"
   ]
  },
  {
   "cell_type": "code",
   "execution_count": 16,
   "id": "7ccef5d0-e157-44b9-856f-b01bda33da32",
   "metadata": {},
   "outputs": [
    {
     "name": "stdout",
     "output_type": "stream",
     "text": [
      "/home/lab/Pictures/temp\n"
     ]
    }
   ],
   "source": [
    "!pwd"
   ]
  },
  {
   "cell_type": "code",
   "execution_count": 17,
   "id": "efdb77f3-cdcc-40b7-9971-ac0285fbf48b",
   "metadata": {},
   "outputs": [
    {
     "name": "stdout",
     "output_type": "stream",
     "text": [
      "/media/lab/E6D08F9ED08F7419/HDD_RL/Experiments/FID/C_KaiU2Cal/real\n"
     ]
    }
   ],
   "source": [
    "cd /media/lab/E6D08F9ED08F7419/HDD_RL/Experiments/FID/C_KaiU2Cal/real"
   ]
  },
  {
   "cell_type": "code",
   "execution_count": 18,
   "id": "f56395cc-96f5-4f27-95a6-b6ad8ba386de",
   "metadata": {},
   "outputs": [
    {
     "name": "stdout",
     "output_type": "stream",
     "text": [
      "0001.jpg  0014.jpg  0027.jpg  0040.jpg\t0053.jpg  0066.jpg  0079.jpg  0092.jpg\n",
      "0002.jpg  0015.jpg  0028.jpg  0041.jpg\t0054.jpg  0067.jpg  0080.jpg  0093.jpg\n",
      "0003.jpg  0016.jpg  0029.jpg  0042.jpg\t0055.jpg  0068.jpg  0081.jpg  0094.jpg\n",
      "0004.jpg  0017.jpg  0030.jpg  0043.jpg\t0056.jpg  0069.jpg  0082.jpg  0095.jpg\n",
      "0005.jpg  0018.jpg  0031.jpg  0044.jpg\t0057.jpg  0070.jpg  0083.jpg  0096.jpg\n",
      "0006.jpg  0019.jpg  0032.jpg  0045.jpg\t0058.jpg  0071.jpg  0084.jpg  0097.jpg\n",
      "0007.jpg  0020.jpg  0033.jpg  0046.jpg\t0059.jpg  0072.jpg  0085.jpg  0098.jpg\n",
      "0008.jpg  0021.jpg  0034.jpg  0047.jpg\t0060.jpg  0073.jpg  0086.jpg  0099.jpg\n",
      "0009.jpg  0022.jpg  0035.jpg  0048.jpg\t0061.jpg  0074.jpg  0087.jpg  0100.jpg\n",
      "0010.jpg  0023.jpg  0036.jpg  0049.jpg\t0062.jpg  0075.jpg  0088.jpg\n",
      "0011.jpg  0024.jpg  0037.jpg  0050.jpg\t0063.jpg  0076.jpg  0089.jpg\n",
      "0012.jpg  0025.jpg  0038.jpg  0051.jpg\t0064.jpg  0077.jpg  0090.jpg\n",
      "0013.jpg  0026.jpg  0039.jpg  0052.jpg\t0065.jpg  0078.jpg  0091.jpg\n"
     ]
    }
   ],
   "source": [
    "!ls"
   ]
  },
  {
   "cell_type": "markdown",
   "id": "01bf2bb0-646e-441e-b2b9-b503d7b74777",
   "metadata": {},
   "source": [
    "## Converting all files (.jpg to .png) from a directory in Python"
   ]
  },
  {
   "cell_type": "code",
   "execution_count": 19,
   "id": "7cc26af5-837d-434c-a9e7-c4b0b4405a2f",
   "metadata": {
    "scrolled": true,
    "tags": []
   },
   "outputs": [
    {
     "name": "stdout",
     "output_type": "stream",
     "text": [
      "/media/lab/E6D08F9ED08F7419/HDD_RL/Experiments/FID/C_KaiU2Cal/real/0001.jpg\n",
      "/media/lab/E6D08F9ED08F7419/HDD_RL/Experiments/FID/C_KaiU2Cal/real/0002.jpg\n",
      "/media/lab/E6D08F9ED08F7419/HDD_RL/Experiments/FID/C_KaiU2Cal/real/0003.jpg\n",
      "/media/lab/E6D08F9ED08F7419/HDD_RL/Experiments/FID/C_KaiU2Cal/real/0004.jpg\n",
      "/media/lab/E6D08F9ED08F7419/HDD_RL/Experiments/FID/C_KaiU2Cal/real/0005.jpg\n",
      "/media/lab/E6D08F9ED08F7419/HDD_RL/Experiments/FID/C_KaiU2Cal/real/0006.jpg\n",
      "/media/lab/E6D08F9ED08F7419/HDD_RL/Experiments/FID/C_KaiU2Cal/real/0007.jpg\n",
      "/media/lab/E6D08F9ED08F7419/HDD_RL/Experiments/FID/C_KaiU2Cal/real/0008.jpg\n",
      "/media/lab/E6D08F9ED08F7419/HDD_RL/Experiments/FID/C_KaiU2Cal/real/0009.jpg\n",
      "/media/lab/E6D08F9ED08F7419/HDD_RL/Experiments/FID/C_KaiU2Cal/real/0010.jpg\n",
      "/media/lab/E6D08F9ED08F7419/HDD_RL/Experiments/FID/C_KaiU2Cal/real/0011.jpg\n",
      "/media/lab/E6D08F9ED08F7419/HDD_RL/Experiments/FID/C_KaiU2Cal/real/0012.jpg\n",
      "/media/lab/E6D08F9ED08F7419/HDD_RL/Experiments/FID/C_KaiU2Cal/real/0013.jpg\n",
      "/media/lab/E6D08F9ED08F7419/HDD_RL/Experiments/FID/C_KaiU2Cal/real/0014.jpg\n",
      "/media/lab/E6D08F9ED08F7419/HDD_RL/Experiments/FID/C_KaiU2Cal/real/0015.jpg\n",
      "/media/lab/E6D08F9ED08F7419/HDD_RL/Experiments/FID/C_KaiU2Cal/real/0016.jpg\n",
      "/media/lab/E6D08F9ED08F7419/HDD_RL/Experiments/FID/C_KaiU2Cal/real/0017.jpg\n",
      "/media/lab/E6D08F9ED08F7419/HDD_RL/Experiments/FID/C_KaiU2Cal/real/0018.jpg\n",
      "/media/lab/E6D08F9ED08F7419/HDD_RL/Experiments/FID/C_KaiU2Cal/real/0019.jpg\n",
      "/media/lab/E6D08F9ED08F7419/HDD_RL/Experiments/FID/C_KaiU2Cal/real/0021.jpg\n",
      "/media/lab/E6D08F9ED08F7419/HDD_RL/Experiments/FID/C_KaiU2Cal/real/0022.jpg\n",
      "/media/lab/E6D08F9ED08F7419/HDD_RL/Experiments/FID/C_KaiU2Cal/real/0023.jpg\n",
      "/media/lab/E6D08F9ED08F7419/HDD_RL/Experiments/FID/C_KaiU2Cal/real/0024.jpg\n",
      "/media/lab/E6D08F9ED08F7419/HDD_RL/Experiments/FID/C_KaiU2Cal/real/0025.jpg\n",
      "/media/lab/E6D08F9ED08F7419/HDD_RL/Experiments/FID/C_KaiU2Cal/real/0026.jpg\n",
      "/media/lab/E6D08F9ED08F7419/HDD_RL/Experiments/FID/C_KaiU2Cal/real/0027.jpg\n",
      "/media/lab/E6D08F9ED08F7419/HDD_RL/Experiments/FID/C_KaiU2Cal/real/0028.jpg\n",
      "/media/lab/E6D08F9ED08F7419/HDD_RL/Experiments/FID/C_KaiU2Cal/real/0029.jpg\n",
      "/media/lab/E6D08F9ED08F7419/HDD_RL/Experiments/FID/C_KaiU2Cal/real/0030.jpg\n",
      "/media/lab/E6D08F9ED08F7419/HDD_RL/Experiments/FID/C_KaiU2Cal/real/0031.jpg\n",
      "/media/lab/E6D08F9ED08F7419/HDD_RL/Experiments/FID/C_KaiU2Cal/real/0032.jpg\n",
      "/media/lab/E6D08F9ED08F7419/HDD_RL/Experiments/FID/C_KaiU2Cal/real/0033.jpg\n",
      "/media/lab/E6D08F9ED08F7419/HDD_RL/Experiments/FID/C_KaiU2Cal/real/0034.jpg\n",
      "/media/lab/E6D08F9ED08F7419/HDD_RL/Experiments/FID/C_KaiU2Cal/real/0035.jpg\n",
      "/media/lab/E6D08F9ED08F7419/HDD_RL/Experiments/FID/C_KaiU2Cal/real/0036.jpg\n",
      "/media/lab/E6D08F9ED08F7419/HDD_RL/Experiments/FID/C_KaiU2Cal/real/0037.jpg\n",
      "/media/lab/E6D08F9ED08F7419/HDD_RL/Experiments/FID/C_KaiU2Cal/real/0038.jpg\n",
      "/media/lab/E6D08F9ED08F7419/HDD_RL/Experiments/FID/C_KaiU2Cal/real/0039.jpg\n",
      "/media/lab/E6D08F9ED08F7419/HDD_RL/Experiments/FID/C_KaiU2Cal/real/0041.jpg\n",
      "/media/lab/E6D08F9ED08F7419/HDD_RL/Experiments/FID/C_KaiU2Cal/real/0042.jpg\n",
      "/media/lab/E6D08F9ED08F7419/HDD_RL/Experiments/FID/C_KaiU2Cal/real/0043.jpg\n",
      "/media/lab/E6D08F9ED08F7419/HDD_RL/Experiments/FID/C_KaiU2Cal/real/0044.jpg\n",
      "/media/lab/E6D08F9ED08F7419/HDD_RL/Experiments/FID/C_KaiU2Cal/real/0045.jpg\n",
      "/media/lab/E6D08F9ED08F7419/HDD_RL/Experiments/FID/C_KaiU2Cal/real/0046.jpg\n",
      "/media/lab/E6D08F9ED08F7419/HDD_RL/Experiments/FID/C_KaiU2Cal/real/0047.jpg\n",
      "/media/lab/E6D08F9ED08F7419/HDD_RL/Experiments/FID/C_KaiU2Cal/real/0048.jpg\n",
      "/media/lab/E6D08F9ED08F7419/HDD_RL/Experiments/FID/C_KaiU2Cal/real/0049.jpg\n",
      "/media/lab/E6D08F9ED08F7419/HDD_RL/Experiments/FID/C_KaiU2Cal/real/0050.jpg\n",
      "/media/lab/E6D08F9ED08F7419/HDD_RL/Experiments/FID/C_KaiU2Cal/real/0051.jpg\n",
      "/media/lab/E6D08F9ED08F7419/HDD_RL/Experiments/FID/C_KaiU2Cal/real/0052.jpg\n",
      "/media/lab/E6D08F9ED08F7419/HDD_RL/Experiments/FID/C_KaiU2Cal/real/0053.jpg\n",
      "/media/lab/E6D08F9ED08F7419/HDD_RL/Experiments/FID/C_KaiU2Cal/real/0054.jpg\n",
      "/media/lab/E6D08F9ED08F7419/HDD_RL/Experiments/FID/C_KaiU2Cal/real/0055.jpg\n",
      "/media/lab/E6D08F9ED08F7419/HDD_RL/Experiments/FID/C_KaiU2Cal/real/0056.jpg\n",
      "/media/lab/E6D08F9ED08F7419/HDD_RL/Experiments/FID/C_KaiU2Cal/real/0057.jpg\n",
      "/media/lab/E6D08F9ED08F7419/HDD_RL/Experiments/FID/C_KaiU2Cal/real/0058.jpg\n",
      "/media/lab/E6D08F9ED08F7419/HDD_RL/Experiments/FID/C_KaiU2Cal/real/0059.jpg\n",
      "/media/lab/E6D08F9ED08F7419/HDD_RL/Experiments/FID/C_KaiU2Cal/real/0061.jpg\n",
      "/media/lab/E6D08F9ED08F7419/HDD_RL/Experiments/FID/C_KaiU2Cal/real/0062.jpg\n",
      "/media/lab/E6D08F9ED08F7419/HDD_RL/Experiments/FID/C_KaiU2Cal/real/0063.jpg\n",
      "/media/lab/E6D08F9ED08F7419/HDD_RL/Experiments/FID/C_KaiU2Cal/real/0064.jpg\n",
      "/media/lab/E6D08F9ED08F7419/HDD_RL/Experiments/FID/C_KaiU2Cal/real/0065.jpg\n",
      "/media/lab/E6D08F9ED08F7419/HDD_RL/Experiments/FID/C_KaiU2Cal/real/0066.jpg\n",
      "/media/lab/E6D08F9ED08F7419/HDD_RL/Experiments/FID/C_KaiU2Cal/real/0067.jpg\n",
      "/media/lab/E6D08F9ED08F7419/HDD_RL/Experiments/FID/C_KaiU2Cal/real/0068.jpg\n",
      "/media/lab/E6D08F9ED08F7419/HDD_RL/Experiments/FID/C_KaiU2Cal/real/0069.jpg\n",
      "/media/lab/E6D08F9ED08F7419/HDD_RL/Experiments/FID/C_KaiU2Cal/real/0070.jpg\n",
      "/media/lab/E6D08F9ED08F7419/HDD_RL/Experiments/FID/C_KaiU2Cal/real/0071.jpg\n",
      "/media/lab/E6D08F9ED08F7419/HDD_RL/Experiments/FID/C_KaiU2Cal/real/0072.jpg\n",
      "/media/lab/E6D08F9ED08F7419/HDD_RL/Experiments/FID/C_KaiU2Cal/real/0073.jpg\n",
      "/media/lab/E6D08F9ED08F7419/HDD_RL/Experiments/FID/C_KaiU2Cal/real/0074.jpg\n",
      "/media/lab/E6D08F9ED08F7419/HDD_RL/Experiments/FID/C_KaiU2Cal/real/0075.jpg\n",
      "/media/lab/E6D08F9ED08F7419/HDD_RL/Experiments/FID/C_KaiU2Cal/real/0076.jpg\n",
      "/media/lab/E6D08F9ED08F7419/HDD_RL/Experiments/FID/C_KaiU2Cal/real/0077.jpg\n",
      "/media/lab/E6D08F9ED08F7419/HDD_RL/Experiments/FID/C_KaiU2Cal/real/0078.jpg\n",
      "/media/lab/E6D08F9ED08F7419/HDD_RL/Experiments/FID/C_KaiU2Cal/real/0079.jpg\n",
      "/media/lab/E6D08F9ED08F7419/HDD_RL/Experiments/FID/C_KaiU2Cal/real/0081.jpg\n",
      "/media/lab/E6D08F9ED08F7419/HDD_RL/Experiments/FID/C_KaiU2Cal/real/0082.jpg\n",
      "/media/lab/E6D08F9ED08F7419/HDD_RL/Experiments/FID/C_KaiU2Cal/real/0083.jpg\n",
      "/media/lab/E6D08F9ED08F7419/HDD_RL/Experiments/FID/C_KaiU2Cal/real/0084.jpg\n",
      "/media/lab/E6D08F9ED08F7419/HDD_RL/Experiments/FID/C_KaiU2Cal/real/0085.jpg\n",
      "/media/lab/E6D08F9ED08F7419/HDD_RL/Experiments/FID/C_KaiU2Cal/real/0086.jpg\n",
      "/media/lab/E6D08F9ED08F7419/HDD_RL/Experiments/FID/C_KaiU2Cal/real/0087.jpg\n",
      "/media/lab/E6D08F9ED08F7419/HDD_RL/Experiments/FID/C_KaiU2Cal/real/0088.jpg\n",
      "/media/lab/E6D08F9ED08F7419/HDD_RL/Experiments/FID/C_KaiU2Cal/real/0089.jpg\n",
      "/media/lab/E6D08F9ED08F7419/HDD_RL/Experiments/FID/C_KaiU2Cal/real/0090.jpg\n",
      "/media/lab/E6D08F9ED08F7419/HDD_RL/Experiments/FID/C_KaiU2Cal/real/0091.jpg\n",
      "/media/lab/E6D08F9ED08F7419/HDD_RL/Experiments/FID/C_KaiU2Cal/real/0092.jpg\n",
      "/media/lab/E6D08F9ED08F7419/HDD_RL/Experiments/FID/C_KaiU2Cal/real/0093.jpg\n",
      "/media/lab/E6D08F9ED08F7419/HDD_RL/Experiments/FID/C_KaiU2Cal/real/0094.jpg\n",
      "/media/lab/E6D08F9ED08F7419/HDD_RL/Experiments/FID/C_KaiU2Cal/real/0095.jpg\n",
      "/media/lab/E6D08F9ED08F7419/HDD_RL/Experiments/FID/C_KaiU2Cal/real/0096.jpg\n",
      "/media/lab/E6D08F9ED08F7419/HDD_RL/Experiments/FID/C_KaiU2Cal/real/0097.jpg\n",
      "/media/lab/E6D08F9ED08F7419/HDD_RL/Experiments/FID/C_KaiU2Cal/real/0098.jpg\n",
      "/media/lab/E6D08F9ED08F7419/HDD_RL/Experiments/FID/C_KaiU2Cal/real/0099.jpg\n",
      "/media/lab/E6D08F9ED08F7419/HDD_RL/Experiments/FID/C_KaiU2Cal/real/0100.jpg\n",
      "/media/lab/E6D08F9ED08F7419/HDD_RL/Experiments/FID/C_KaiU2Cal/real/0020.jpg\n",
      "/media/lab/E6D08F9ED08F7419/HDD_RL/Experiments/FID/C_KaiU2Cal/real/0040.jpg\n",
      "/media/lab/E6D08F9ED08F7419/HDD_RL/Experiments/FID/C_KaiU2Cal/real/0060.jpg\n",
      "/media/lab/E6D08F9ED08F7419/HDD_RL/Experiments/FID/C_KaiU2Cal/real/0080.jpg\n"
     ]
    }
   ],
   "source": [
    "from PIL import Image\n",
    "import os\n",
    "\n",
    "directory = r'/media/lab/E6D08F9ED08F7419/HDD_RL/Experiments/FID/C_KaiU2Cal/real'\n",
    "c=1\n",
    "newsize = (256, 256)\n",
    "for filename in os.listdir(directory):\n",
    "    # print(os.listdir(directory))\n",
    "    # print(filename)\n",
    "    if filename.endswith(\".jpg\"):\n",
    "        im = Image.open(filename)\n",
    "        im = im.resize(newsize)\n",
    "        name='img'+str(c)+'.png'\n",
    "        rgb_im = im.convert('RGB')\n",
    "        rgb_im.save(name)\n",
    "        c+=1\n",
    "        print(os.path.join(directory, filename))\n",
    "        continue\n",
    "    else:\n",
    "        continue"
   ]
  },
  {
   "cell_type": "code",
   "execution_count": null,
   "id": "a5c481ed-a09f-47b1-ba29-7b4d0d31b944",
   "metadata": {},
   "outputs": [],
   "source": []
  },
  {
   "cell_type": "code",
   "execution_count": null,
   "id": "c6c2294e-861f-4f43-a4ea-ab10aaff58e5",
   "metadata": {},
   "outputs": [],
   "source": []
  }
 ],
 "metadata": {
  "kernelspec": {
   "display_name": "Python 3.8 (pytorch)",
   "language": "python",
   "name": "pytorch"
  },
  "language_info": {
   "codemirror_mode": {
    "name": "ipython",
    "version": 3
   },
   "file_extension": ".py",
   "mimetype": "text/x-python",
   "name": "python",
   "nbconvert_exporter": "python",
   "pygments_lexer": "ipython3",
   "version": "3.8.13"
  }
 },
 "nbformat": 4,
 "nbformat_minor": 5
}
